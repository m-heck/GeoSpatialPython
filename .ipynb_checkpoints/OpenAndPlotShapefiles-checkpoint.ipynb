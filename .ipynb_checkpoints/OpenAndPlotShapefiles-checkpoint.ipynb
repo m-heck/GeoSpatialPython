{
 "cells": [
  {
   "cell_type": "markdown",
   "id": "81d5b6bf-035c-4e4e-aa4a-ecb57ac3c456",
   "metadata": {},
   "source": [
    "# Open and Plot Shapefiles in Python\n",
    "We will use the `geopandas` package to work with vector data in Python. We will also use the `rioxarray`"
   ]
  },
  {
   "cell_type": "code",
   "execution_count": 1,
   "id": "c8ea490d-8e38-4649-8cc9-402abc50cf6b",
   "metadata": {},
   "outputs": [],
   "source": [
    "import geopandas as gpd"
   ]
  },
  {
   "cell_type": "markdown",
   "id": "145ec979-9099-45a2-8915-b902ff575284",
   "metadata": {},
   "source": [
    "## Import Shapefiles\n",
    "The shapefiles that we will import are:\n",
    "- A polygon shapefile representing our field site boundary\n",
    "- A line shapefile representing roads\n",
    "- A point shapefile representing the location of the Fisher flux tower\n",
    "\n",
    "The first shapefile that we will open contains the boundary of our study area(or our Area Of Interest\\[AOI\\], hence the name `aoi_boundary`). To import shapefiles we use the `geopandas` function `read_file()`."
   ]
  },
  {
   "cell_type": "code",
   "execution_count": 2,
   "id": "56a43143-b8d5-4b1e-873c-517cd15b3199",
   "metadata": {},
   "outputs": [],
   "source": [
    "aoi_boundary = gpd.read_file(\"data/NEON-GEO-PYTHON-DATASETS/NEON-DS-Site-Layout-Files/HARV/HarClip_UTMZ18.shp\")"
   ]
  },
  {
   "cell_type": "markdown",
   "id": "fa8f33f1-0413-4273-a618-f656f352d37a",
   "metadata": {},
   "source": [
    "## Shapefile Metadata & Attributes\n",
    "When we import the `HarClip_UTMZ18` shapefile layer into Python (as our `aoi_boundary_HARV` object) it comes in as a DataFrame, specifically a `GeoDataFrame`. `read_file()` also automaticallt stores geospatial information about the data. We are particularly interested in describing the format, CRS, extent, and other components of the vector data, and the attributes which describe properties associated with each individual vector object\n",
    "\n",
    "## Spatial Metadata\n",
    "Key metadata for all shapefiles include:\n",
    "1. Object Type: the class of the imported object\n",
    "2. Coordinate Reference System (CRS): the projection of the data\n",
    "3. Extent: the spatial extent (i.e. geographic area that the shapefile covers). Represents the combined extent for all spatial objects in the shapefile.\n",
    "\n",
    "Each `GeoDataFrame` has a `\"geometry\"` column that contains geometries. In the case of our `aoi_boundary_HARV`, this geometry is represented by a `shapely.geometry.Polygon` object. `geopandas` uses the `shapely` library to represent polygons, lines, and points, so the types are inherited from `shapely`.\n",
    "\n",
    "We can view the shapefile metadata using the `.crs`, `.bounds`, and `.type` attributes. First, let's view the geometry type for our AOI shapefile. To view the geometry type, we use the `pandas` method `.type` function on the GeoDataFrame, `aoi_boundary_HARV`"
   ]
  },
  {
   "cell_type": "code",
   "execution_count": 3,
   "id": "88db5ed1-2191-442a-8c59-01464f24bc49",
   "metadata": {},
   "outputs": [
    {
     "data": {
      "text/plain": [
       "0    Polygon\n",
       "dtype: object"
      ]
     },
     "execution_count": 3,
     "metadata": {},
     "output_type": "execute_result"
    }
   ],
   "source": [
    "aoi_boundary.type"
   ]
  },
  {
   "cell_type": "markdown",
   "id": "9a0d5ebf-877b-4063-ae2f-dc11b044ace9",
   "metadata": {},
   "source": [
    "To view the CRS metadata:"
   ]
  },
  {
   "cell_type": "code",
   "execution_count": 4,
   "id": "e6569c8f-19d9-46c4-bfed-df898ab5f99f",
   "metadata": {},
   "outputs": [
    {
     "data": {
      "text/plain": [
       "<Derived Projected CRS: EPSG:32618>\n",
       "Name: WGS 84 / UTM zone 18N\n",
       "Axis Info [cartesian]:\n",
       "- E[east]: Easting (metre)\n",
       "- N[north]: Northing (metre)\n",
       "Area of Use:\n",
       "- name: Between 78°W and 72°W, northern hemisphere between equator and 84°N, onshore and offshore. Bahamas. Canada - Nunavut; Ontario; Quebec. Colombia. Cuba. Ecuador. Greenland. Haiti. Jamaica. Panama. Turks and Caicos Islands. United States (USA). Venezuela.\n",
       "- bounds: (-78.0, 0.0, -72.0, 84.0)\n",
       "Coordinate Operation:\n",
       "- name: UTM zone 18N\n",
       "- method: Transverse Mercator\n",
       "Datum: World Geodetic System 1984 ensemble\n",
       "- Ellipsoid: WGS 84\n",
       "- Prime Meridian: Greenwich"
      ]
     },
     "execution_count": 4,
     "metadata": {},
     "output_type": "execute_result"
    }
   ],
   "source": [
    "aoi_boundary.crs"
   ]
  },
  {
   "cell_type": "markdown",
   "id": "c0677122-76ae-4df5-946d-8c4bc981686c",
   "metadata": {},
   "source": [
    "Our data is in the CRS UTM zone 18N. The CRS is critical to interpreting the object's extent values as it specifies units. To find the extent of our AOI in the projected coordinates, we can use the `.bounds()` function:"
   ]
  },
  {
   "cell_type": "code",
   "execution_count": 5,
   "id": "41f3f5f8-7967-4ff2-ab71-27ebd2ff6a60",
   "metadata": {},
   "outputs": [
    {
     "data": {
      "text/html": [
       "<div>\n",
       "<style scoped>\n",
       "    .dataframe tbody tr th:only-of-type {\n",
       "        vertical-align: middle;\n",
       "    }\n",
       "\n",
       "    .dataframe tbody tr th {\n",
       "        vertical-align: top;\n",
       "    }\n",
       "\n",
       "    .dataframe thead th {\n",
       "        text-align: right;\n",
       "    }\n",
       "</style>\n",
       "<table border=\"1\" class=\"dataframe\">\n",
       "  <thead>\n",
       "    <tr style=\"text-align: right;\">\n",
       "      <th></th>\n",
       "      <th>minx</th>\n",
       "      <th>miny</th>\n",
       "      <th>maxx</th>\n",
       "      <th>maxy</th>\n",
       "    </tr>\n",
       "  </thead>\n",
       "  <tbody>\n",
       "    <tr>\n",
       "      <th>0</th>\n",
       "      <td>732128.016925</td>\n",
       "      <td>4.713209e+06</td>\n",
       "      <td>732251.102892</td>\n",
       "      <td>4.713359e+06</td>\n",
       "    </tr>\n",
       "  </tbody>\n",
       "</table>\n",
       "</div>"
      ],
      "text/plain": [
       "            minx          miny           maxx          maxy\n",
       "0  732128.016925  4.713209e+06  732251.102892  4.713359e+06"
      ]
     },
     "execution_count": 5,
     "metadata": {},
     "output_type": "execute_result"
    }
   ],
   "source": [
    "aoi_boundary.bounds"
   ]
  },
  {
   "cell_type": "markdown",
   "id": "f4c98dd3-eb7d-45ae-b89b-6c472371b6d7",
   "metadata": {},
   "source": [
    "The spatial extent of a shapefile or `shapely` spatial object represents the geographic \"edge\" or location that is furthest north, south, east, and west. Thus, it represents teh overall geographic coverage of the spatial object.\n",
    "\n",
    "We can convert these coordinates to a bounding box or acquire the index of the dataframe to access the geometry. Either of these polygons can be used to clip rasters.\n",
    "\n",
    "## Reading a Shapefile from a csv\n",
    "So far we have been loading file formats that were specifically built to hold spatial information. But often, point data is stored in table format, with a column for the x and y coordinates. The easiest way to get this type of data into a GeoDataFrame is with `geopandas` function `geopandas.points_from_xy`, which takes list-like sequences of x and y coordinates. In this case, we can get the sequences from columns of a pandas `DataFrame` that we get from `read_csv`."
   ]
  },
  {
   "cell_type": "code",
   "execution_count": 6,
   "id": "c703b4e9-0212-49b8-a0af-10125bc18821",
   "metadata": {},
   "outputs": [],
   "source": [
    "# we get the projection of the point data from our Canopy Height Model,\n",
    "# after examining the pandas DataFrame and seeing that the CRSs are the same\n",
    "import rioxarray\n",
    "import pandas as pd\n",
    "CHM_HARV = rioxarray.open_rasterio(\"data/NEON-GEO-PYTHON-DATASETS/NEON-DS-Airborne-Remote-Sensing/HARV/CHM/HARV_chmCrop.tif\")\n",
    "\n",
    "# plotting locations in CRS coordinates using CHM_HARV's CRS\n",
    "plot_locations_HARV = pd.read_csv(\"data/NEON-GEO-PYTHON-DATASETS/NEON-DS-Site-Layout-Files/HARV/HARV_PlotLocations.csv\")\n",
    "plot_locations_HARV = gpd.GeoDataFrame(plot_locations_HARV, geometry=gpd.points_from_xy(plot_locations_HARV.easting, plot_locations_HARV.northing), crs=CHM_HARV.rio.crs)\n",
    "\n"
   ]
  },
  {
   "cell_type": "markdown",
   "id": "21586c37-21e1-43ba-96ea-53a036ec4f68",
   "metadata": {},
   "source": [
    "## Plotting a Shapefile\n",
    "Any `GeoDataFrame` can be plotted in CRS units to view the shape of the object with `.plot()`."
   ]
  },
  {
   "cell_type": "code",
   "execution_count": 7,
   "id": "008b7b5a-ab63-47a7-a820-8c4766337c76",
   "metadata": {},
   "outputs": [
    {
     "data": {
      "text/plain": [
       "<AxesSubplot:>"
      ]
     },
     "execution_count": 7,
     "metadata": {},
     "output_type": "execute_result"
    },
    {
     "data": {
      "image/png": "[encoded data removed]",
      "text/plain": [
       "<Figure size 432x288 with 1 Axes>"
      ]
     },
     "metadata": {
      "needs_background": "light"
     },
     "output_type": "display_data"
    }
   ],
   "source": [
    "aoi_boundary.plot()"
   ]
  },
  {
   "cell_type": "markdown",
   "id": "ce32d2b2-7d62-4e1e-8818-d82beb0b324f",
   "metadata": {},
   "source": [
    "We can customize the color of our boundary plot by setting the `figsize`, `edgecolor`, and `color`. Making some polygons transparent will come in handy when we need to add multiple spatial datasets to a single plot."
   ]
  },
  {
   "cell_type": "code",
   "execution_count": 8,
   "id": "3c30a90f-efa3-4901-a160-b0ace54c39a4",
   "metadata": {},
   "outputs": [
    {
     "data": {
      "text/plain": [
       "<AxesSubplot:>"
      ]
     },
     "execution_count": 8,
     "metadata": {},
     "output_type": "execute_result"
    },
    {
     "data": {
      "image/png": "[encoded data removed]",
      "text/plain": [
       "<Figure size 360x360 with 1 Axes>"
      ]
     },
     "metadata": {
      "needs_background": "light"
     },
     "output_type": "display_data"
    }
   ],
   "source": [
    "aoi_boundary.plot(figsize=(5,5), edgecolor=\"purple\", facecolor=\"None\")"
   ]
  },
  {
   "cell_type": "markdown",
   "id": "ae52ed70-e1d8-413f-9a33-e73b81d61cfc",
   "metadata": {},
   "source": [
    "Under the hood, `geopandas` is using `matplotlib` to generate this plot. In the next episode, we will se how we can add `DataArrays` and other shapefiles to this plot to start building an informativee map of our area of interest.\n",
    "\n",
    "## Challenge: Import Line and Point Shapefiles\n",
    "Using the steps above, import the HARV_roads and HARVtower_UTM18N layers into Python using geopandas. Name the HARV_roads shapefile as the variable lines_HARV and the HARVtower_UTM18N shapefile point_HARV.\n",
    "\n",
    "Answer the following questions:\n",
    "- What type of Python spatial object is created when you import each layer?\n",
    "- What is the CRS and extent (bounds) for each object?\n",
    "- Do the files contain points, lines, or polygons?\n",
    "- How many spatial objects are in each file?"
   ]
  },
  {
   "cell_type": "code",
   "execution_count": 9,
   "id": "5308c3ec-8449-4b39-a1a2-c69584c58a40",
   "metadata": {},
   "outputs": [],
   "source": [
    "lines_HARV = gpd.read_file(\"data/NEON-GEO-PYTHON-DATASETS/NEON-DS-Site-Layout-Files/HARV/HARV_roads.shp\")\n",
    "point_HARV = gpd.read_file(\"data/NEON-GEO-PYTHON-DATASETS/NEON-DS-Site-Layout-Files/HARV/HARVtower_UTM18N.shp\")"
   ]
  },
  {
   "cell_type": "markdown",
   "id": "dd8ab520-9c34-4b99-a7be-590d03c99496",
   "metadata": {},
   "source": [
    "To see the type of shape, use the type attribute"
   ]
  },
  {
   "cell_type": "code",
   "execution_count": 10,
   "id": "ffdbfa5f-a62b-49c7-8800-92581d5ba67d",
   "metadata": {},
   "outputs": [
    {
     "data": {
      "text/plain": [
       "0     MultiLineString\n",
       "1          LineString\n",
       "2          LineString\n",
       "3          LineString\n",
       "4          LineString\n",
       "5          LineString\n",
       "6          LineString\n",
       "7          LineString\n",
       "8          LineString\n",
       "9     MultiLineString\n",
       "10         LineString\n",
       "11         LineString\n",
       "12         LineString\n",
       "dtype: object"
      ]
     },
     "execution_count": 10,
     "metadata": {},
     "output_type": "execute_result"
    }
   ],
   "source": [
    "lines_HARV.type"
   ]
  },
  {
   "cell_type": "code",
   "execution_count": 11,
   "id": "9e91a581-c2b7-4be2-90c0-26ed463ebaa7",
   "metadata": {},
   "outputs": [
    {
     "data": {
      "text/plain": [
       "0    Point\n",
       "dtype: object"
      ]
     },
     "execution_count": 11,
     "metadata": {},
     "output_type": "execute_result"
    }
   ],
   "source": [
    "point_HARV.type"
   ]
  },
  {
   "cell_type": "markdown",
   "id": "ffa0d3ab-372c-488d-8c30-37e20970c1ff",
   "metadata": {},
   "source": [
    "To see the extent for each object:"
   ]
  },
  {
   "cell_type": "code",
   "execution_count": 12,
   "id": "3816341a-623d-4b79-942c-e9bd4a0cf84b",
   "metadata": {},
   "outputs": [
    {
     "name": "stdout",
     "output_type": "stream",
     "text": [
      "             minx          miny           maxx          maxy\n",
      "0   730741.189051  4.712685e+06  731960.385241  4.713205e+06\n",
      "1   731954.486766  4.713131e+06  732040.223433  4.713241e+06\n",
      "2   732040.223433  4.713241e+06  732232.252862  4.713726e+06\n",
      "3   731882.554927  4.713197e+06  732021.788663  4.713296e+06\n",
      "4   732039.101956  4.713255e+06  732051.863479  4.713299e+06\n",
      "5   732056.224769  4.713043e+06  732105.203917  4.713235e+06\n",
      "6   731963.992873  4.713019e+06  732105.203917  4.713043e+06\n",
      "7   732105.203917  4.713043e+06  732194.213008  4.713059e+06\n",
      "8   732222.896745  4.713063e+06  732258.211435  4.713070e+06\n",
      "9   732153.839281  4.713258e+06  732189.574313  4.713305e+06\n",
      "10  731164.800636  4.711942e+06  732335.867480  4.713071e+06\n",
      "11  732341.704012  4.713073e+06  732479.643325  4.713107e+06\n",
      "12  732413.410439  4.713107e+06  733295.548632  4.714260e+06\n"
     ]
    }
   ],
   "source": [
    "print(lines_HARV.bounds)"
   ]
  },
  {
   "cell_type": "code",
   "execution_count": 13,
   "id": "bba3196c-979e-4a72-b03c-929ca29ae144",
   "metadata": {},
   "outputs": [
    {
     "name": "stdout",
     "output_type": "stream",
     "text": [
      "            minx          miny           maxx          maxy\n",
      "0  732183.193776  4.713265e+06  732183.193776  4.713265e+06\n"
     ]
    }
   ],
   "source": [
    "print(point_HARV.bounds)"
   ]
  },
  {
   "cell_type": "markdown",
   "id": "135296f4-5d34-4d14-9417-716fcad4d847",
   "metadata": {},
   "source": [
    "The files contain lines and points."
   ]
  },
  {
   "cell_type": "markdown",
   "id": "10cc63f6-5940-4ed9-adf4-0d24e184617d",
   "metadata": {},
   "source": [
    "To see the number of objects in each fie, we can look at the loutput when we print the result in a notebook of call `len()` on a `GeoDataFrame`. `lines_HARV` contains 13 and `point_HARV` contains 1."
   ]
  },
  {
   "cell_type": "code",
   "execution_count": 14,
   "id": "3512ee3b-8fa8-4bf6-ae49-ec98d5d4aa0d",
   "metadata": {},
   "outputs": [
    {
     "name": "stdout",
     "output_type": "stream",
     "text": [
      "13\n"
     ]
    }
   ],
   "source": [
    "print(len(lines_HARV))"
   ]
  },
  {
   "cell_type": "code",
   "execution_count": 15,
   "id": "f33725c2-e1bd-4eea-a9ee-d9966efdda19",
   "metadata": {},
   "outputs": [
    {
     "name": "stdout",
     "output_type": "stream",
     "text": [
      "1\n"
     ]
    }
   ],
   "source": [
    "print(len(point_HARV))"
   ]
  }
 ],
 "metadata": {
  "kernelspec": {
   "display_name": "Python 3 (ipykernel)",
   "language": "python",
   "name": "python3"
  },
  "language_info": {
   "codemirror_mode": {
    "name": "ipython",
    "version": 3
   },
   "file_extension": ".py",
   "mimetype": "text/x-python",
   "name": "python",
   "nbconvert_exporter": "python",
   "pygments_lexer": "ipython3",
   "version": "3.10.4"
  }
 },
 "nbformat": 4,
 "nbformat_minor": 5
}
