{
 "cells": [
  {
   "cell_type": "markdown",
   "id": "24141489-cc2b-4b0e-83ae-11a4be8ce2ef",
   "metadata": {},
   "source": [
    "# Convert from .csv to a Shapefile in Python\n",
    "\n",
    "First, import the necessary libraries"
   ]
  },
  {
   "cell_type": "code",
   "execution_count": 1,
   "id": "c218db2d-6f76-443e-acc9-fe51f90b74cc",
   "metadata": {},
   "outputs": [],
   "source": [
    "import pandas as pd\n",
    "import geopandas as gpd\n",
    "import matplotlib.pyplot as plt"
   ]
  },
  {
   "cell_type": "code",
   "execution_count": 2,
   "id": "521a4367-f2e9-4d85-ac92-b95372682de5",
   "metadata": {},
   "outputs": [],
   "source": [
    "#load files\n",
    "lines_HARV = gpd.read_file(\"data/NEON-GEO-PYTHON-DATASETS/NEON-DS-Site-Layout-Files/HARV/HARV_roads.shp\")\n",
    "aoi_boundary_HARV = gpd.read_file(\"data/NEON-GEO-PYTHON-DATASETS/NEON-DS-Site-Layout-Files/HARV/HarClip_UTMZ18.shp\")\n",
    "country_boundary_US = gpd.read_file(\"data/NEON-GEO-PYTHON-DATASETS/NEON-DS-Site-Layout-Files/US-Boundary-Layers/US-Boundary-Dissolved-States.shp\")\n",
    "point_HARV = gpd.read_file(\"data/NEON-GEO-PYTHON-DATASETS/NEON-DS-Site-Layout-Files/HARV/HARVtower_UTM18N.shp\")"
   ]
  },
  {
   "cell_type": "markdown",
   "id": "cdf5cd23-199c-4f2b-9e54-79e0a8bf8f5f",
   "metadata": {},
   "source": [
    "This episode will review how to import spatial points stored in `.csv` format into Python as a geopandas `GeoDataFrame`. We will also reproject data imported from a shapefile format, export this as a shapefile, and plot raster and vector data as layers in the same plot. \n",
    "\n",
    "## Spatial Data in Text Format\n",
    "The `HARV_PlotLocations.csv` file contains x, y (point) locations for study plot where NEON collects data on vegetation and other ecological metrics. We would like to\n",
    "- Create a map of these plot locations\n",
    "- Export the data in a `shapefile` format to share with others. This shapefile can be imported into any GIS software\n",
    "- Create a map showing vegetation height with plot locations layered on top\n",
    "\n",
    "Spatial data are sometimes stored in a text file format (`.txt` or `.csv`). If the text file has an associated x and y or lat and lon location column, then we can convert the tabular text file into a GeoDataFrame. This will have a column containing the point geometry. The `GeoDataFrame` allows us to store both the x, y values that represent the coordinate location of each point and the associated attribute data describing each feature.\n",
    "\n",
    "We will use the `pandas`, `geopandas`, and `rasterio` packages.\n",
    "\n",
    "## Import .csv\n",
    "To begin let's import a `.csv` file that contains plot coordinate x, y locations at the VARV field site and look at the structure of that new object.\n"
   ]
  },
  {
   "cell_type": "code",
   "execution_count": 3,
   "id": "7048abb4-a675-43e3-8517-b9f12461fe17",
   "metadata": {},
   "outputs": [
    {
     "name": "stdout",
     "output_type": "stream",
     "text": [
      "<class 'pandas.core.frame.DataFrame'>\n",
      "RangeIndex: 21 entries, 0 to 20\n",
      "Data columns (total 16 columns):\n",
      " #   Column      Non-Null Count  Dtype  \n",
      "---  ------      --------------  -----  \n",
      " 0   easting     21 non-null     float64\n",
      " 1   northing    21 non-null     float64\n",
      " 2   geodeticDa  21 non-null     object \n",
      " 3   utmZone     21 non-null     object \n",
      " 4   plotID      21 non-null     object \n",
      " 5   stateProvi  21 non-null     object \n",
      " 6   county      21 non-null     object \n",
      " 7   domainName  21 non-null     object \n",
      " 8   domainID    21 non-null     object \n",
      " 9   siteID      21 non-null     object \n",
      " 10  plotType    21 non-null     object \n",
      " 11  subtype     21 non-null     object \n",
      " 12  plotSize    21 non-null     int64  \n",
      " 13  elevation   21 non-null     float64\n",
      " 14  soilTypeOr  21 non-null     object \n",
      " 15  plotdim_m   21 non-null     int64  \n",
      "dtypes: float64(3), int64(2), object(11)\n",
      "memory usage: 2.8+ KB\n"
     ]
    }
   ],
   "source": [
    "plot_locations_HARV = pd.read_csv(\"data/NEON-GEO-PYTHON-DATASETS/NEON-DS-Site-Layout-Files/HARV/HARV_PlotLocations.csv\")\n",
    "plot_locations_HARV.info()"
   ]
  },
  {
   "cell_type": "markdown",
   "id": "401a835f-d278-4111-bd6c-7b35b163720b",
   "metadata": {},
   "source": [
    "We now have a data frame that contains 21 rows and 16 variables. Next, let's explore the `DataFrame` to determine whether it contains columns with coordinate values. If we are lucky, our `.csv` will contain columns labeled\n",
    "- \"X\" and \"Y\" OR\n",
    "- Latitude and Longitude OR\n",
    "- easting and northing\n",
    "\n",
    "Let's check our the column names of our `DataFrame`"
   ]
  },
  {
   "cell_type": "code",
   "execution_count": 4,
   "id": "e7b881df-eadf-4775-b9d1-4f2986945312",
   "metadata": {},
   "outputs": [
    {
     "data": {
      "text/plain": [
       "Index(['easting', 'northing', 'geodeticDa', 'utmZone', 'plotID', 'stateProvi',\n",
       "       'county', 'domainName', 'domainID', 'siteID', 'plotType', 'subtype',\n",
       "       'plotSize', 'elevation', 'soilTypeOr', 'plotdim_m'],\n",
       "      dtype='object')"
      ]
     },
     "execution_count": 4,
     "metadata": {},
     "output_type": "execute_result"
    }
   ],
   "source": [
    "plot_locations_HARV.columns"
   ]
  },
  {
   "cell_type": "markdown",
   "id": "dd374c71-a79c-4b65-808d-b29eac116b39",
   "metadata": {},
   "source": [
    "## Identify X, Y Location Columns\n",
    "Our column names include several fields that might contain spatial information. The easting and northing columns contain coordinate values. We can confirm this by looking at the first five rows of our data."
   ]
  },
  {
   "cell_type": "code",
   "execution_count": 5,
   "id": "38b6aeaf-06a9-472e-9189-4ab4a7fc7e17",
   "metadata": {},
   "outputs": [
    {
     "name": "stdout",
     "output_type": "stream",
     "text": [
      "0    731405.307\n",
      "1    731934.336\n",
      "2    731754.336\n",
      "3    731724.336\n",
      "4    732125.307\n",
      "Name: easting, dtype: float64\n",
      "0    4713456.299\n",
      "1    4713414.977\n",
      "2    4713114.977\n",
      "3    4713594.977\n",
      "4    4713846.299\n",
      "Name: northing, dtype: float64\n"
     ]
    }
   ],
   "source": [
    "print(plot_locations_HARV[\"easting\"].head())\n",
    "print(plot_locations_HARV[\"northing\"].head())"
   ]
  },
  {
   "cell_type": "markdown",
   "id": "a4df2f55-b827-43b9-a8ff-82ccf5938455",
   "metadata": {},
   "source": [
    "We have coordinate values in our data frame. In order to convert our `DataFrame` to a `GeoDataFrame`, we also need to know the CRS assocated with those coordinate values.\n",
    "\n",
    "There are several ways to figure out the CRS of the spatial data in text format\n",
    "1. We can infer from the range of numbers in the coordinate column if the values represent latitude/longitude (WGS84 projection) or another coordinate system\n",
    "2. If the values are not in latitude/longitude, we can check the file metadata, which may be in a separate file or listed somewhere in the text file itself. The file header or separate data columns are possible locations of CRS\n",
    "\n",
    "Following the `easting` and `northing` columns, there is a `geodeticDa` and a `utmZone` column. These appear to contain CRS information (`datum` and `projection`). Let's view those next."
   ]
  },
  {
   "cell_type": "code",
   "execution_count": 6,
   "id": "ef5aabf3-0291-4263-8df9-923840f4fbda",
   "metadata": {},
   "outputs": [
    {
     "name": "stdout",
     "output_type": "stream",
     "text": [
      "0    WGS84\n",
      "1    WGS84\n",
      "2    WGS84\n",
      "3    WGS84\n",
      "4    WGS84\n",
      "Name: geodeticDa, dtype: object\n",
      "0    18N\n",
      "1    18N\n",
      "2    18N\n",
      "3    18N\n",
      "4    18N\n",
      "Name: utmZone, dtype: object\n"
     ]
    }
   ],
   "source": [
    "print(plot_locations_HARV[\"geodeticDa\"].head())\n",
    "print(plot_locations_HARV[\"utmZone\"].head())"
   ]
  },
  {
   "cell_type": "markdown",
   "id": "d3e1bee0-9f7b-4d3f-9133-25b1a6751182",
   "metadata": {},
   "source": [
    "The `geodeticDa` and `utmZone` columns contain the information that helps us determine the CRS:\n",
    "- geodeticDa: WGS84 - this is the geodetic datum WGS84\n",
    "- utmZone: 18\n",
    "\n",
    "To create the `proj4` associated with UTM Zone 18 WGS84 we can look up the projection on the Spatial Reference website. However, if we have other data in the UTM Zone 18N projection, it's much easier to use the `.crs` method to extract the CRS in `proj4` format and assign it to our new GeoDataFrame. This CRS is seen in `point_HARV`."
   ]
  },
  {
   "cell_type": "code",
   "execution_count": 7,
   "id": "e761c17c-a770-4e60-b4e1-c90e1f8f1745",
   "metadata": {},
   "outputs": [
    {
     "data": {
      "text/plain": [
       "<Derived Projected CRS: EPSG:32618>\n",
       "Name: WGS 84 / UTM zone 18N\n",
       "Axis Info [cartesian]:\n",
       "- E[east]: Easting (metre)\n",
       "- N[north]: Northing (metre)\n",
       "Area of Use:\n",
       "- name: Between 78°W and 72°W, northern hemisphere between equator and 84°N, onshore and offshore. Bahamas. Canada - Nunavut; Ontario; Quebec. Colombia. Cuba. Ecuador. Greenland. Haiti. Jamaica. Panama. Turks and Caicos Islands. United States (USA). Venezuela.\n",
       "- bounds: (-78.0, 0.0, -72.0, 84.0)\n",
       "Coordinate Operation:\n",
       "- name: UTM zone 18N\n",
       "- method: Transverse Mercator\n",
       "Datum: World Geodetic System 1984 ensemble\n",
       "- Ellipsoid: WGS 84\n",
       "- Prime Meridian: Greenwich"
      ]
     },
     "execution_count": 7,
     "metadata": {},
     "output_type": "execute_result"
    }
   ],
   "source": [
    "point_HARV.crs"
   ]
  },
  {
   "cell_type": "markdown",
   "id": "ede33c61-622e-4a9f-86c9-d337311a06f9",
   "metadata": {},
   "source": [
    "Let's create a `crs` object that we can use to define the CRS of our `GeoDataFrame` when we create it."
   ]
  },
  {
   "cell_type": "code",
   "execution_count": 8,
   "id": "5d9303b1-c72d-4b5c-9983-000dc822403f",
   "metadata": {},
   "outputs": [
    {
     "data": {
      "text/plain": [
       "<Derived Projected CRS: EPSG:32618>\n",
       "Name: WGS 84 / UTM zone 18N\n",
       "Axis Info [cartesian]:\n",
       "- E[east]: Easting (metre)\n",
       "- N[north]: Northing (metre)\n",
       "Area of Use:\n",
       "- name: Between 78°W and 72°W, northern hemisphere between equator and 84°N, onshore and offshore. Bahamas. Canada - Nunavut; Ontario; Quebec. Colombia. Cuba. Ecuador. Greenland. Haiti. Jamaica. Panama. Turks and Caicos Islands. United States (USA). Venezuela.\n",
       "- bounds: (-78.0, 0.0, -72.0, 84.0)\n",
       "Coordinate Operation:\n",
       "- name: UTM zone 18N\n",
       "- method: Transverse Mercator\n",
       "Datum: World Geodetic System 1984 ensemble\n",
       "- Ellipsoid: WGS 84\n",
       "- Prime Meridian: Greenwich"
      ]
     },
     "execution_count": 8,
     "metadata": {},
     "output_type": "execute_result"
    }
   ],
   "source": [
    "utm18nCRS = point_HARV.crs\n",
    "utm18nCRS"
   ]
  },
  {
   "cell_type": "markdown",
   "id": "ebb68c67-00a0-419b-95df-1852cfb5a125",
   "metadata": {},
   "source": [
    "## .csv to GeoDataFrame\n",
    "Next, let's convert our `DataFrame` to a `GeoDataFrame`. To do this, we need to specify: \n",
    "1. The columns containing X (easting) and Y (northing) coordinate values\n",
    "2. The CRS that the column coordinate represent\n",
    "\n",
    "We will use the `points_from_xy()` function to perform the converstion."
   ]
  },
  {
   "cell_type": "code",
   "execution_count": 9,
   "id": "b3e1e09a-2477-4b0d-940f-42c1907a9dcf",
   "metadata": {},
   "outputs": [],
   "source": [
    "plot_locations_HARV_gdf = gpd.GeoDataFrame(plot_locations_HARV, geometry=gpd.points_from_xy(plot_locations_HARV.easting, plot_locations_HARV.northing), crs=utm18nCRS)"
   ]
  },
  {
   "cell_type": "markdown",
   "id": "60e1bf7c-ce38-4e49-a7d9-e2d0cfdb5cb0",
   "metadata": {},
   "source": [
    "We should double check the CRS to make sure it is correct"
   ]
  },
  {
   "cell_type": "code",
   "execution_count": 10,
   "id": "7244485e-9a74-4155-bab7-7a3fe585bb09",
   "metadata": {},
   "outputs": [
    {
     "data": {
      "text/plain": [
       "<Derived Projected CRS: EPSG:32618>\n",
       "Name: WGS 84 / UTM zone 18N\n",
       "Axis Info [cartesian]:\n",
       "- E[east]: Easting (metre)\n",
       "- N[north]: Northing (metre)\n",
       "Area of Use:\n",
       "- name: Between 78°W and 72°W, northern hemisphere between equator and 84°N, onshore and offshore. Bahamas. Canada - Nunavut; Ontario; Quebec. Colombia. Cuba. Ecuador. Greenland. Haiti. Jamaica. Panama. Turks and Caicos Islands. United States (USA). Venezuela.\n",
       "- bounds: (-78.0, 0.0, -72.0, 84.0)\n",
       "Coordinate Operation:\n",
       "- name: UTM zone 18N\n",
       "- method: Transverse Mercator\n",
       "Datum: World Geodetic System 1984 ensemble\n",
       "- Ellipsoid: WGS 84\n",
       "- Prime Meridian: Greenwich"
      ]
     },
     "execution_count": 10,
     "metadata": {},
     "output_type": "execute_result"
    }
   ],
   "source": [
    "plot_locations_HARV_gdf.crs"
   ]
  },
  {
   "cell_type": "markdown",
   "id": "b96d5449-b9d1-44fb-a916-191dca9c32bb",
   "metadata": {},
   "source": [
    "## Plot Spatial Object\n",
    "We now have a `GeoDataFrame`, we can plot our newly created spatial object"
   ]
  },
  {
   "cell_type": "code",
   "execution_count": 12,
   "id": "7c23db74-e581-4bb0-bdb8-dc4e10964b1b",
   "metadata": {},
   "outputs": [
    {
     "data": {
      "image/png": "[encoded data removed]",
      "text/plain": [
       "<Figure size 432x288 with 1 Axes>"
      ]
     },
     "metadata": {
      "needs_background": "light"
     },
     "output_type": "display_data"
    }
   ],
   "source": [
    "fig, ax = plt.subplots()\n",
    "plot_locations_HARV_gdf.plot(ax=ax)\n",
    "plt.title(\"Map of Plot Locations\")\n",
    "plt.show()"
   ]
  },
  {
   "cell_type": "markdown",
   "id": "20e8fae1-bc45-46ca-97aa-d48ec41871e7",
   "metadata": {},
   "source": [
    "## Plot Extent\n",
    "In Open and Plot Shapefiles in Python, we learned about `GeoDataFrame` extent. When we plot several spatial layers in Python using `matplotlib`, all of the layers of the plot are considered when setting boundaries of the plot. To show this, let's plot our `aoi_boundary_HARV` object with our vegetation plots."
   ]
  },
  {
   "cell_type": "code",
   "execution_count": 13,
   "id": "8e06a68e-da28-437f-a97a-43a3d7931d63",
   "metadata": {},
   "outputs": [
    {
     "data": {
      "image/png": "[encoded data removed]",
      "text/plain": [
       "<Figure size 432x288 with 1 Axes>"
      ]
     },
     "metadata": {
      "needs_background": "light"
     },
     "output_type": "display_data"
    }
   ],
   "source": [
    "fig, ax = plt.subplots()\n",
    "plot_locations_HARV_gdf.plot(ax=ax)\n",
    "aoi_boundary_HARV.plot(ax=ax, facecolor=\"None\", edgecolor=\"orange\")\n",
    "plt.title(\"AOI Boundary Plot\")\n",
    "plt.show()"
   ]
  },
  {
   "cell_type": "markdown",
   "id": "1227e769-d901-4012-a41d-99750674c15c",
   "metadata": {},
   "source": [
    "## Challenge - Import and Plot Additional Points\n",
    "We want to add two phenology plots to our existing map of vegetation plot locations.\n",
    "\n",
    "Import the .csv: data/NEON-DS-Site-Layout-Files/HARV/HARV_2NewPhenPlots.csv and do the following:\n",
    "\n",
    "1. Find the X and Y coordinate locations. Which value is X and which value is Y?\n",
    "2. These data were collected in a geographic coordinate system (WGS84). Convert the dataframe into an geopandas.GeoDataFrame.\n",
    "3. Plot the new points with the plot location points from above. Be sure to add a legend. Use a different symbol for the 2 new points!"
   ]
  },
  {
   "cell_type": "code",
   "execution_count": 14,
   "id": "7ab267f1-d06c-439b-b2de-acf00a41d314",
   "metadata": {},
   "outputs": [
    {
     "name": "stdout",
     "output_type": "stream",
     "text": [
      "<class 'pandas.core.frame.DataFrame'>\n",
      "RangeIndex: 2 entries, 0 to 1\n",
      "Data columns (total 13 columns):\n",
      " #   Column      Non-Null Count  Dtype  \n",
      "---  ------      --------------  -----  \n",
      " 0   decimalLat  2 non-null      float64\n",
      " 1   decimalLon  2 non-null      float64\n",
      " 2   country     2 non-null      object \n",
      " 3   stateProvi  2 non-null      object \n",
      " 4   county      2 non-null      object \n",
      " 5   domainName  2 non-null      object \n",
      " 6   domainID    2 non-null      object \n",
      " 7   siteID      2 non-null      object \n",
      " 8   plotType    2 non-null      object \n",
      " 9   subtype     2 non-null      object \n",
      " 10  plotSize    2 non-null      int64  \n",
      " 11  plotDimens  2 non-null      object \n",
      " 12  elevation   2 non-null      float64\n",
      "dtypes: float64(3), int64(1), object(9)\n",
      "memory usage: 336.0+ bytes\n"
     ]
    }
   ],
   "source": [
    "# loads the new csv\n",
    "new_points = pd.read_csv(\"data/NEON-GEO-PYTHON-DATASETS/NEON-DS-Site-Layout-Files/HARV/HARV_2NewPhenPlots.csv\")\n",
    "new_points.info()"
   ]
  },
  {
   "cell_type": "code",
   "execution_count": 26,
   "id": "b0fb4004-eed5-429e-b310-daec6666f9e3",
   "metadata": {},
   "outputs": [
    {
     "name": "stdout",
     "output_type": "stream",
     "text": [
      "0    42.542779\n",
      "1    42.539546\n",
      "Name: decimalLat, dtype: float64\n",
      "0   -72.172129\n",
      "1   -72.172334\n",
      "Name: decimalLon, dtype: float64\n"
     ]
    }
   ],
   "source": [
    "# latitude is x and longitude is y\n",
    "print(new_points[\"decimalLat\"].head())\n",
    "print(new_points[\"decimalLon\"].head())\n",
    "\n",
    "# saves CRS\n",
    "geogCRS = country_boundary_US.crs"
   ]
  },
  {
   "cell_type": "code",
   "execution_count": 27,
   "id": "cbd1a012-46f0-487a-a5e9-4cf9c51b434e",
   "metadata": {},
   "outputs": [],
   "source": [
    "# convert the DataFrame into a GeoDataFrame\n",
    "new_points_gdf = gpd.GeoDataFrame(new_points, geometry=gpd.points_from_xy(new_points.decimalLon, new_points.decimalLat), crs=geogCRS)"
   ]
  },
  {
   "cell_type": "code",
   "execution_count": 30,
   "id": "bf04cc91-342a-4d9d-ad2b-8916c624ac7f",
   "metadata": {},
   "outputs": [
    {
     "data": {
      "image/png": "[encoded data removed]",
      "text/plain": [
       "<Figure size 432x288 with 1 Axes>"
      ]
     },
     "metadata": {
      "needs_background": "light"
     },
     "output_type": "display_data"
    }
   ],
   "source": [
    "# Plot the new points\n",
    "fig, ax = plt.subplots()\n",
    "plot_locations_HARV_gdf.plot(ax=ax)\n",
    "# Must change the new points crs first\n",
    "new_points_gdf.to_crs(plot_locations_HARV_gdf.crs).plot(ax=ax, color=\"orange\")\n",
    "plt.title(\"Map of All Plot Locations\")\n",
    "plt.show()"
   ]
  }
 ],
 "metadata": {
  "kernelspec": {
   "display_name": "Python 3 (ipykernel)",
   "language": "python",
   "name": "python3"
  },
  "language_info": {
   "codemirror_mode": {
    "name": "ipython",
    "version": 3
   },
   "file_extension": ".py",
   "mimetype": "text/x-python",
   "name": "python",
   "nbconvert_exporter": "python",
   "pygments_lexer": "ipython3",
   "version": "3.10.4"
  }
 },
 "nbformat": 4,
 "nbformat_minor": 5
}
