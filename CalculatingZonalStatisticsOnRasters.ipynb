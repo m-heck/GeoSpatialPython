{
 "cells": [
  {
   "cell_type": "markdown",
   "id": "88f23ba7-ae8e-4ded-a5bf-86a261cae9b3",
   "metadata": {},
   "source": [
    "# Calculating Zonal Statistics on Rasters\n",
    "So far we have chained together two geospatial operations, reprojection and raster math, to produce our Canopy Height Model (CHM) and learned how to read vector data with `geopandas`."
   ]
  },
  {
   "cell_type": "code",
   "execution_count": 3,
   "id": "90330674-4a39-4ea3-b919-40d3d78c1cbc",
   "metadata": {},
   "outputs": [],
   "source": [
    "from xrspatial import zonal_stats\n",
    "import xarray as xr\n",
    "import geopandas as gpd\n",
    "import rasterio\n",
    "import rioxarray\n",
    "\n",
    "# reads the surface and terrain\n",
    "surface_HARV = rioxarray.open_rasterio(\"data/NEON-GEO-PYTHON-DATASETS/NEON-DS-Airborne-Remote-Sensing/HARV/DSM/HARV_dsmCrop.tif\", masked=True)\n",
    "terrain_HARV_UTM18 = rioxarray.open_rasterio(\"data/NEON-GEO-PYTHON-DATASETS/NEON-DS-Airborne-Remote-Sensing/HARV/DTM/HARV_dtmCrop_UTM18.tif\", masked=True)\n",
    "\n",
    "# reprojects terrain\n",
    "terrain_HARV_matched = terrain_HARV_UTM18.rio.reproject_match(surface_HARV)\n",
    "\n",
    "# creates CHM\n",
    "canopy_HARV = surface_HARV - terrain_HARV_matched\n",
    "\n",
    "# reads roads\n",
    "roads = gpd.read_file(\"data/NEON-GEO-PYTHON-DATASETS/NEON-DS-Site-Layout-Files/HARV/HARV_roads.shp\")"
   ]
  },
  {
   "cell_type": "markdown",
   "id": "67d5c610-a335-4030-be48-824a2546ebeb",
   "metadata": {},
   "source": [
    "Now that we have our CHM, we can compute statistics with it to understand how canopy height varies across our study area. If we want to focus on specific areas or zones of interest, we can use zonal statistics. To do this, we'll import the `zonal_stats` function from the package `xrspatial`.\n",
    "\n",
    "## Zonal Statistics with xarray-spatial\n",
    "We often want to perform calculations for specific zones in a raster. These can be delineated by points, lines, or polygons. In the case of HARV, we hzve a shapefile that contains lines representing walkways, footpaths, and roads. A single function call, `xrspatial.zonal_stats` can calculate the minimum, maximum, mean, median, and standard deviation for each line zone in our CHM.\n",
    "\n",
    "In order to accomplish this, we first need to rasterize our `roads` geodataframe with the `rasterio.features.rasterize` function. This will produce a grid with number values representing each type of line, with numbers varying with the type of line. This grid's values will then represent each of our zones for the `xrspatial.zonal_stats` function, where each pixel in the zone grid overlaps with a corresponding pixel in our CHM raster.\n",
    "\n",
    "Before rasterizing, we need to do a little work to make a variable, `shapes`, that associates a line with a unique number to represent that line. This variable will later be used as the first argument to `rasterio.features.rasterize`."
   ]
  }
 ],
 "metadata": {
  "kernelspec": {
   "display_name": "Python 3 (ipykernel)",
   "language": "python",
   "name": "python3"
  },
  "language_info": {
   "codemirror_mode": {
    "name": "ipython",
    "version": 3
   },
   "file_extension": ".py",
   "mimetype": "text/x-python",
   "name": "python",
   "nbconvert_exporter": "python",
   "pygments_lexer": "ipython3",
   "version": "3.10.4"
  }
 },
 "nbformat": 4,
 "nbformat_minor": 5
}
