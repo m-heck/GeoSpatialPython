{
 "cells": [
  {
   "cell_type": "markdown",
   "id": "24141489-cc2b-4b0e-83ae-11a4be8ce2ef",
   "metadata": {},
   "source": [
    "# Convert from .csv to a Shapefile in Python\n",
    "\n",
    "First, import the necessary libraries"
   ]
  },
  {
   "cell_type": "code",
   "execution_count": 1,
   "id": "c218db2d-6f76-443e-acc9-fe51f90b74cc",
   "metadata": {},
   "outputs": [],
   "source": [
    "import pandas as pd\n",
    "import geopandas as gpd\n",
    "import matplotlib.pyplot as plt"
   ]
  }
 ],
 "metadata": {
  "kernelspec": {
   "display_name": "Python 3 (ipykernel)",
   "language": "python",
   "name": "python3"
  },
  "language_info": {
   "codemirror_mode": {
    "name": "ipython",
    "version": 3
   },
   "file_extension": ".py",
   "mimetype": "text/x-python",
   "name": "python",
   "nbconvert_exporter": "python",
   "pygments_lexer": "ipython3",
   "version": "3.10.4"
  }
 },
 "nbformat": 4,
 "nbformat_minor": 5
}
