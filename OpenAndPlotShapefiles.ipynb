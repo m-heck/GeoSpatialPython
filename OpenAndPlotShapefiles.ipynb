{
 "cells": [
  {
   "cell_type": "markdown",
   "id": "81d5b6bf-035c-4e4e-aa4a-ecb57ac3c456",
   "metadata": {},
   "source": [
    "# Open and Plot Shapefiles in Python\n",
    "We will use the `geopandas` package to work with vector data in Python. We will also use the `rioxarray`"
   ]
  },
  {
   "cell_type": "code",
   "execution_count": 2,
   "id": "c8ea490d-8e38-4649-8cc9-402abc50cf6b",
   "metadata": {},
   "outputs": [],
   "source": [
    "import geopandas as gpd"
   ]
  },
  {
   "cell_type": "markdown",
   "id": "145ec979-9099-45a2-8915-b902ff575284",
   "metadata": {},
   "source": [
    "## Import Shapefiles\n",
    "The shapefiles that we will import are:\n",
    "- A polygon shapefile representing our field site boundary\n",
    "- A line shapefile representing roads\n",
    "- A point shapefile representing the location of the Fisher flux tower\n",
    "\n",
    "The first shapefile that we will open contains the boundary of our study area(or our Area Of Interest\\[AOI\\], hence the name `aoi_boundary`). To import shapefiles we use the `geopandas` function `read_file()`."
   ]
  },
  {
   "cell_type": "code",
   "execution_count": 3,
   "id": "56a43143-b8d5-4b1e-873c-517cd15b3199",
   "metadata": {},
   "outputs": [],
   "source": [
    "aoi_boundary = gpd.read_file(\"data/NEON-GEO-PYTHON-DATASETS/NEON-DS-Site-Layout-Files/HARV/HarClip_UTMZ18.shp\")"
   ]
  },
  {
   "cell_type": "markdown",
   "id": "fa8f33f1-0413-4273-a618-f656f352d37a",
   "metadata": {},
   "source": [
    "## Shapefile Metadata & Attributes\n",
    "When we import the `HarClip_UTMZ18` shapefile layer into Python (as our `aoi_boundary_HARV` object) it comes in as a DataFrame, specifically a `GeoDataFrame`. `read_file()` also automaticallt stores geospatial information about the data. We are particularly interested in describing the format, CRS, extent, and other components of the vector data, and the attributes which describe properties associated with each individual vector object\n",
    "\n",
    "## Spatial Metadata\n",
    "Key metadata for all shapefiles include:\n",
    "1. Object Type: the class of the imported object\n",
    "2. Coordinate Reference System (CRS): the projection of the data\n",
    "3. Extent: the spatial extent (i.e. geographic area that the shapefile covers). Represents the combined extent for all spatial objects in the shapefile.\n",
    "\n",
    "Each `GeoDataFrame` has a `\"geometry\"` column that contains geometries. In the case of our `aoi_boundary_HARV`, this geometry is represented by a `shapely.geometry.Polygon` object. `geopandas` uses the `shapely` library to represent polygons, lines, and points, so the types are inherited from `shapely`.\n",
    "\n",
    "We can view the shapefile metadata using the `.crs`, `.bounds`, and `.type` attributes. First, let's view the geometry type for our AOI shapefile. To view the geometry type, we use the `pandas` method `.type` function on the GeoDataFrame, `aoi_boundary_HARV`"
   ]
  },
  {
   "cell_type": "code",
   "execution_count": 4,
   "id": "88db5ed1-2191-442a-8c59-01464f24bc49",
   "metadata": {},
   "outputs": [
    {
     "data": {
      "text/plain": [
       "0    Polygon\n",
       "dtype: object"
      ]
     },
     "execution_count": 4,
     "metadata": {},
     "output_type": "execute_result"
    }
   ],
   "source": [
    "aoi_boundary.type"
   ]
  },
  {
   "cell_type": "markdown",
   "id": "9a0d5ebf-877b-4063-ae2f-dc11b044ace9",
   "metadata": {},
   "source": [
    "To view the CRS metadata:"
   ]
  },
  {
   "cell_type": "code",
   "execution_count": 5,
   "id": "e6569c8f-19d9-46c4-bfed-df898ab5f99f",
   "metadata": {},
   "outputs": [
    {
     "data": {
      "text/plain": [
       "<Derived Projected CRS: EPSG:32618>\n",
       "Name: WGS 84 / UTM zone 18N\n",
       "Axis Info [cartesian]:\n",
       "- E[east]: Easting (metre)\n",
       "- N[north]: Northing (metre)\n",
       "Area of Use:\n",
       "- name: Between 78°W and 72°W, northern hemisphere between equator and 84°N, onshore and offshore. Bahamas. Canada - Nunavut; Ontario; Quebec. Colombia. Cuba. Ecuador. Greenland. Haiti. Jamaica. Panama. Turks and Caicos Islands. United States (USA). Venezuela.\n",
       "- bounds: (-78.0, 0.0, -72.0, 84.0)\n",
       "Coordinate Operation:\n",
       "- name: UTM zone 18N\n",
       "- method: Transverse Mercator\n",
       "Datum: World Geodetic System 1984 ensemble\n",
       "- Ellipsoid: WGS 84\n",
       "- Prime Meridian: Greenwich"
      ]
     },
     "execution_count": 5,
     "metadata": {},
     "output_type": "execute_result"
    }
   ],
   "source": [
    "aoi_boundary.crs"
   ]
  },
  {
   "cell_type": "markdown",
   "id": "c0677122-76ae-4df5-946d-8c4bc981686c",
   "metadata": {},
   "source": [
    "Our data is in the CRS UTM zone 18N. The CRS is critical to interpreting the object's extent values as it specifies units. To find the extent of our AOI in the projected coordinates, we can use the `.bounds()` function:"
   ]
  },
  {
   "cell_type": "code",
   "execution_count": 8,
   "id": "41f3f5f8-7967-4ff2-ab71-27ebd2ff6a60",
   "metadata": {},
   "outputs": [
    {
     "data": {
      "text/html": [
       "<div>\n",
       "<style scoped>\n",
       "    .dataframe tbody tr th:only-of-type {\n",
       "        vertical-align: middle;\n",
       "    }\n",
       "\n",
       "    .dataframe tbody tr th {\n",
       "        vertical-align: top;\n",
       "    }\n",
       "\n",
       "    .dataframe thead th {\n",
       "        text-align: right;\n",
       "    }\n",
       "</style>\n",
       "<table border=\"1\" class=\"dataframe\">\n",
       "  <thead>\n",
       "    <tr style=\"text-align: right;\">\n",
       "      <th></th>\n",
       "      <th>minx</th>\n",
       "      <th>miny</th>\n",
       "      <th>maxx</th>\n",
       "      <th>maxy</th>\n",
       "    </tr>\n",
       "  </thead>\n",
       "  <tbody>\n",
       "    <tr>\n",
       "      <th>0</th>\n",
       "      <td>732128.016925</td>\n",
       "      <td>4.713209e+06</td>\n",
       "      <td>732251.102892</td>\n",
       "      <td>4.713359e+06</td>\n",
       "    </tr>\n",
       "  </tbody>\n",
       "</table>\n",
       "</div>"
      ],
      "text/plain": [
       "            minx          miny           maxx          maxy\n",
       "0  732128.016925  4.713209e+06  732251.102892  4.713359e+06"
      ]
     },
     "execution_count": 8,
     "metadata": {},
     "output_type": "execute_result"
    }
   ],
   "source": [
    "aoi_boundary.bounds"
   ]
  },
  {
   "cell_type": "markdown",
   "id": "f4c98dd3-eb7d-45ae-b89b-6c472371b6d7",
   "metadata": {},
   "source": [
    "The spatial extent of a shapefile or `shapely` spatial object represents the geographic \"edge\" or location that is"
   ]
  }
 ],
 "metadata": {
  "kernelspec": {
   "display_name": "Python 3 (ipykernel)",
   "language": "python",
   "name": "python3"
  },
  "language_info": {
   "codemirror_mode": {
    "name": "ipython",
    "version": 3
   },
   "file_extension": ".py",
   "mimetype": "text/x-python",
   "name": "python",
   "nbconvert_exporter": "python",
   "pygments_lexer": "ipython3",
   "version": "3.10.4"
  }
 },
 "nbformat": 4,
 "nbformat_minor": 5
}
